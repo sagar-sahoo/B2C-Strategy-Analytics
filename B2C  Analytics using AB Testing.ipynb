{
 "cells": [
  {
   "cell_type": "markdown",
   "metadata": {},
   "source": [
    "# Problem Statement"
   ]
  },
  {
   "cell_type": "markdown",
   "metadata": {},
   "source": [
    "There is a large opportunity to generate revenue for Organization by having sales agents proactively engage customers shopping our site. To identify potential customers, we have a data science model that uses various internal and external signals from user browsing behavior to generate leads for our sales team to reach out on. \n",
    "\n",
    "The tenets for driving outbound program is:\n",
    "- Increase revenue that is incremental to Organization\n",
    "- Maintain positive variable contribution margin (VCD)\n",
    "\n",
    "We need to advise the business what type of leads are best to pursue"
   ]
  },
  {
   "cell_type": "markdown",
   "metadata": {},
   "source": [
    "# Assumptions"
   ]
  },
  {
   "cell_type": "markdown",
   "metadata": {},
   "source": [
    "- We considered the Lead Activity based on the Lead Generation Date for calculating Revenue earned for the respective Lead. Only Activity greater than or equal to the lead generation date has been taken into account.\n",
    "\n",
    "\n",
    "- In order to arrive at a conclusion, we calculate the average revenue earned because of the agent activities (the called/testing slice) against the 45 Day Expected Revenue of the Control group. If the generated revenue is more or close to 45 Day Expected Revenue of Control Group, we can conclude that keeping the customers engaging has helped Wayfair for that Lead Type\n",
    "\n",
    "\n",
    "- Incrementality/VCD has been calculated as below:\n",
    "\n",
    "    Incrementality = (Avg Called Revenue Generated - Avg Exp 45 Day Revenue of Control group)/ (Avg Called Revenue Generated)\n",
    "    \n",
    "    VCD = (Total Called Revenue Generated - Total Control Expected 45 Day Revenue) - Total Called Cost\n",
    "\n"
   ]
  },
  {
   "cell_type": "markdown",
   "metadata": {},
   "source": [
    "# Data and Package Loading "
   ]
  },
  {
   "cell_type": "code",
   "execution_count": 2,
   "metadata": {},
   "outputs": [],
   "source": [
    "import pandas as pd\n",
    "import numpy as np\n",
    "import matplotlib.pyplot as plt\n",
    "import seaborn as sns\n",
    "import warnings\n",
    "warnings.filterwarnings('ignore')\n",
    "from datetime import timedelta"
   ]
  },
  {
   "cell_type": "markdown",
   "metadata": {},
   "source": [
    "Lead Table and Agent Data are 2 Datasources that are imported and is used for analysis and generating recommendations"
   ]
  },
  {
   "cell_type": "code",
   "execution_count": 1,
   "metadata": {},
   "outputs": [
    {
     "ename": "NameError",
     "evalue": "name 'pd' is not defined",
     "output_type": "error",
     "traceback": [
      "\u001b[0;31m---------------------------------------------------------------------------\u001b[0m",
      "\u001b[0;31mNameError\u001b[0m                                 Traceback (most recent call last)",
      "\u001b[0;32m<ipython-input-1-45715a3fd084>\u001b[0m in \u001b[0;36m<module>\u001b[0;34m\u001b[0m\n\u001b[0;32m----> 1\u001b[0;31m \u001b[0magent_activity_df\u001b[0m \u001b[0;34m=\u001b[0m \u001b[0mpd\u001b[0m\u001b[0;34m.\u001b[0m\u001b[0mread_excel\u001b[0m\u001b[0;34m(\u001b[0m\u001b[0;34m'/Users/sagarsahoo/Desktop/Wayfair_Case_Study/input/Agent_Activity_Table.xlsx'\u001b[0m\u001b[0;34m)\u001b[0m\u001b[0;34m\u001b[0m\u001b[0;34m\u001b[0m\u001b[0m\n\u001b[0m\u001b[1;32m      2\u001b[0m \u001b[0mlead_table_df\u001b[0m \u001b[0;34m=\u001b[0m \u001b[0mpd\u001b[0m\u001b[0;34m.\u001b[0m\u001b[0mread_excel\u001b[0m\u001b[0;34m(\u001b[0m\u001b[0;34m'/Users/sagarsahoo/Desktop/Wayfair_Case_Study/input/Lead_Table.xlsx'\u001b[0m\u001b[0;34m)\u001b[0m\u001b[0;34m\u001b[0m\u001b[0;34m\u001b[0m\u001b[0m\n",
      "\u001b[0;31mNameError\u001b[0m: name 'pd' is not defined"
     ]
    }
   ],
   "source": [
    "agent_activity_df = pd.read_excel('/Users/sagarsahoo/Desktop/Wayfair_Case_Study/input/Agent_Activity_Table.xlsx')\n",
    "lead_table_df = pd.read_excel('/Users/sagarsahoo/Desktop/Wayfair_Case_Study/input/Lead_Table.xlsx')"
   ]
  },
  {
   "cell_type": "markdown",
   "metadata": {},
   "source": [
    "# Data Description"
   ]
  },
  {
   "cell_type": "markdown",
   "metadata": {},
   "source": [
    "The Lead Table contains the Lead IDs, Date of Lead Generation, Lead Type/Slice and expected 45 Day Revenue.\n",
    "\n",
    "And the Agent Activity Table contains the activity history(Call Time, Order ID and Revenue) for the respective Lead IDs"
   ]
  },
  {
   "cell_type": "code",
   "execution_count": 3,
   "metadata": {},
   "outputs": [
    {
     "data": {
      "text/html": [
       "<div>\n",
       "<style scoped>\n",
       "    .dataframe tbody tr th:only-of-type {\n",
       "        vertical-align: middle;\n",
       "    }\n",
       "\n",
       "    .dataframe tbody tr th {\n",
       "        vertical-align: top;\n",
       "    }\n",
       "\n",
       "    .dataframe thead th {\n",
       "        text-align: right;\n",
       "    }\n",
       "</style>\n",
       "<table border=\"1\" class=\"dataframe\">\n",
       "  <thead>\n",
       "    <tr style=\"text-align: right;\">\n",
       "      <th></th>\n",
       "      <th>LeadID</th>\n",
       "      <th>LeadCreationDate</th>\n",
       "      <th>LeadType</th>\n",
       "      <th>LeadScore</th>\n",
       "      <th>Lead Slice</th>\n",
       "      <th>45dayRev</th>\n",
       "      <th>LeadOwnerEmpId</th>\n",
       "    </tr>\n",
       "  </thead>\n",
       "  <tbody>\n",
       "    <tr>\n",
       "      <th>0</th>\n",
       "      <td>680376</td>\n",
       "      <td>2018-12-20 22:11:35.000</td>\n",
       "      <td>Customer- 2nd Home</td>\n",
       "      <td>44</td>\n",
       "      <td>1</td>\n",
       "      <td>0.0</td>\n",
       "      <td>1</td>\n",
       "    </tr>\n",
       "    <tr>\n",
       "      <th>1</th>\n",
       "      <td>200758</td>\n",
       "      <td>2018-11-20 09:05:57.261</td>\n",
       "      <td>Customer- New Home</td>\n",
       "      <td>2</td>\n",
       "      <td>1</td>\n",
       "      <td>0.0</td>\n",
       "      <td>1</td>\n",
       "    </tr>\n",
       "    <tr>\n",
       "      <th>2</th>\n",
       "      <td>285305</td>\n",
       "      <td>2019-03-01 04:58:03.097</td>\n",
       "      <td>Out of Stock</td>\n",
       "      <td>95</td>\n",
       "      <td>1</td>\n",
       "      <td>0.0</td>\n",
       "      <td>1</td>\n",
       "    </tr>\n",
       "  </tbody>\n",
       "</table>\n",
       "</div>"
      ],
      "text/plain": [
       "   LeadID        LeadCreationDate            LeadType  LeadScore  Lead Slice  \\\n",
       "0  680376 2018-12-20 22:11:35.000  Customer- 2nd Home         44           1   \n",
       "1  200758 2018-11-20 09:05:57.261  Customer- New Home          2           1   \n",
       "2  285305 2019-03-01 04:58:03.097        Out of Stock         95           1   \n",
       "\n",
       "   45dayRev  LeadOwnerEmpId  \n",
       "0       0.0               1  \n",
       "1       0.0               1  \n",
       "2       0.0               1  "
      ]
     },
     "execution_count": 3,
     "metadata": {},
     "output_type": "execute_result"
    }
   ],
   "source": [
    "lead_table_df.head(3)"
   ]
  },
  {
   "cell_type": "code",
   "execution_count": 4,
   "metadata": {},
   "outputs": [
    {
     "data": {
      "text/html": [
       "<div>\n",
       "<style scoped>\n",
       "    .dataframe tbody tr th:only-of-type {\n",
       "        vertical-align: middle;\n",
       "    }\n",
       "\n",
       "    .dataframe tbody tr th {\n",
       "        vertical-align: top;\n",
       "    }\n",
       "\n",
       "    .dataframe thead th {\n",
       "        text-align: right;\n",
       "    }\n",
       "</style>\n",
       "<table border=\"1\" class=\"dataframe\">\n",
       "  <thead>\n",
       "    <tr style=\"text-align: right;\">\n",
       "      <th></th>\n",
       "      <th>EmpID</th>\n",
       "      <th>LeadIDCalled</th>\n",
       "      <th>CallStartTime</th>\n",
       "      <th>CallEndTime</th>\n",
       "      <th>OrderID</th>\n",
       "      <th>Revenue</th>\n",
       "    </tr>\n",
       "  </thead>\n",
       "  <tbody>\n",
       "    <tr>\n",
       "      <th>0</th>\n",
       "      <td>1207</td>\n",
       "      <td>393533</td>\n",
       "      <td>2018-12-31 19:51:12.000</td>\n",
       "      <td>2018-12-31 20:00:27.000</td>\n",
       "      <td>30481774.0</td>\n",
       "      <td>113.49</td>\n",
       "    </tr>\n",
       "    <tr>\n",
       "      <th>1</th>\n",
       "      <td>976</td>\n",
       "      <td>806783</td>\n",
       "      <td>2019-02-25 10:27:06.495</td>\n",
       "      <td>2019-02-25 10:34:34.695</td>\n",
       "      <td>0.0</td>\n",
       "      <td>0.00</td>\n",
       "    </tr>\n",
       "    <tr>\n",
       "      <th>2</th>\n",
       "      <td>543</td>\n",
       "      <td>120666</td>\n",
       "      <td>2018-11-19 12:35:21.445</td>\n",
       "      <td>2018-11-19 12:38:21.445</td>\n",
       "      <td>0.0</td>\n",
       "      <td>0.00</td>\n",
       "    </tr>\n",
       "  </tbody>\n",
       "</table>\n",
       "</div>"
      ],
      "text/plain": [
       "   EmpID  LeadIDCalled           CallStartTime             CallEndTime  \\\n",
       "0   1207        393533 2018-12-31 19:51:12.000 2018-12-31 20:00:27.000   \n",
       "1    976        806783 2019-02-25 10:27:06.495 2019-02-25 10:34:34.695   \n",
       "2    543        120666 2018-11-19 12:35:21.445 2018-11-19 12:38:21.445   \n",
       "\n",
       "      OrderID  Revenue  \n",
       "0  30481774.0   113.49  \n",
       "1         0.0     0.00  \n",
       "2         0.0     0.00  "
      ]
     },
     "execution_count": 4,
     "metadata": {},
     "output_type": "execute_result"
    }
   ],
   "source": [
    "agent_activity_df.head(3)"
   ]
  },
  {
   "cell_type": "code",
   "execution_count": 5,
   "metadata": {},
   "outputs": [
    {
     "name": "stdout",
     "output_type": "stream",
     "text": [
      "The Shape of Leads Data Source  is:  (9974, 7)\n",
      "The Shape of Leads Activity  Data Source is:  (50000, 6)\n"
     ]
    }
   ],
   "source": [
    "print(\"The Shape of Leads Data Source  is: \", lead_table_df.shape)\n",
    "print(\"The Shape of Leads Activity  Data Source is: \", agent_activity_df.shape)"
   ]
  },
  {
   "cell_type": "markdown",
   "metadata": {},
   "source": [
    "# Analysis"
   ]
  },
  {
   "cell_type": "markdown",
   "metadata": {},
   "source": [
    "In order to understand the spread, we check the average expected 45 Day Revenue across the Lead Types"
   ]
  },
  {
   "cell_type": "code",
   "execution_count": 6,
   "metadata": {},
   "outputs": [],
   "source": [
    "describe_df = lead_table_df.groupby(['LeadType','Lead Slice'],as_index=False).agg({'45dayRev':['count','mean','median']})\n",
    "describe_df.columns = ['LeadType', 'Lead Slice','Total_Leads','Avg_45dayRev','Median_45dayRev']"
   ]
  },
  {
   "cell_type": "code",
   "execution_count": 7,
   "metadata": {},
   "outputs": [
    {
     "data": {
      "image/png": "[encoded data removed]",
      "text/plain": [
       "<Figure size 1080x360 with 1 Axes>"
      ]
     },
     "metadata": {
      "needs_background": "light"
     },
     "output_type": "display_data"
    }
   ],
   "source": [
    "plt.figure(figsize=(15,5))\n",
    "bar =  sns.barplot(x=describe_df.LeadType, y=describe_df.Avg_45dayRev,hue=describe_df['Lead Slice'])\n",
    "bar.set_xticklabels(bar.get_xticklabels(), rotation=30)\n",
    "sns.set_style(\"whitegrid\", {'grid' : False})\n"
   ]
  },
  {
   "cell_type": "markdown",
   "metadata": {},
   "source": [
    "For <b>Customer- 2nd Home</b>, the average 45 Day Expected revenue is the <b>Least</b> for the Variation/Test slice as compared to New Home and Out of Stock Lead Type"
   ]
  },
  {
   "cell_type": "code",
   "execution_count": 8,
   "metadata": {},
   "outputs": [
    {
     "data": {
      "image/png": "[encoded data removed]",
      "text/plain": [
       "<Figure size 1080x360 with 1 Axes>"
      ]
     },
     "metadata": {},
     "output_type": "display_data"
    }
   ],
   "source": [
    "plt.figure(figsize=(15,5))\n",
    "bar =  sns.barplot(x=describe_df.LeadType, y=describe_df.Total_Leads,hue=describe_df['Lead Slice'])\n",
    "bar.set_xticklabels(bar.get_xticklabels(), rotation=30)\n",
    "sns.set_style(\"white\", {'grid' : False})"
   ]
  },
  {
   "cell_type": "markdown",
   "metadata": {},
   "source": [
    "The distribution of the Testing and Control Groups has been consistent across the Lead Types"
   ]
  },
  {
   "cell_type": "markdown",
   "metadata": {},
   "source": [
    "Now, we merge the data sources to proceed with analysis of leads. On merging, the activities without the Lead IDs will be skipped as those cannot be mapped to the Leads Table"
   ]
  },
  {
   "cell_type": "code",
   "execution_count": 9,
   "metadata": {},
   "outputs": [],
   "source": [
    "leads_merged_df = lead_table_df.merge(agent_activity_df,how='left',left_on='LeadID', right_on='LeadIDCalled')"
   ]
  },
  {
   "cell_type": "code",
   "execution_count": 10,
   "metadata": {},
   "outputs": [
    {
     "name": "stdout",
     "output_type": "stream",
     "text": [
      "The Shape of Merged Data Source  is:  (27371, 13)\n"
     ]
    }
   ],
   "source": [
    "print(\"The Shape of Merged Data Source  is: \", leads_merged_df.shape)"
   ]
  },
  {
   "cell_type": "code",
   "execution_count": 11,
   "metadata": {},
   "outputs": [
    {
     "data": {
      "text/html": [
       "<div>\n",
       "<style scoped>\n",
       "    .dataframe tbody tr th:only-of-type {\n",
       "        vertical-align: middle;\n",
       "    }\n",
       "\n",
       "    .dataframe tbody tr th {\n",
       "        vertical-align: top;\n",
       "    }\n",
       "\n",
       "    .dataframe thead th {\n",
       "        text-align: right;\n",
       "    }\n",
       "</style>\n",
       "<table border=\"1\" class=\"dataframe\">\n",
       "  <thead>\n",
       "    <tr style=\"text-align: right;\">\n",
       "      <th></th>\n",
       "      <th>LeadID</th>\n",
       "      <th>LeadCreationDate</th>\n",
       "      <th>LeadType</th>\n",
       "      <th>LeadScore</th>\n",
       "      <th>Lead Slice</th>\n",
       "      <th>45dayRev</th>\n",
       "      <th>LeadOwnerEmpId</th>\n",
       "      <th>EmpID</th>\n",
       "      <th>LeadIDCalled</th>\n",
       "      <th>CallStartTime</th>\n",
       "      <th>CallEndTime</th>\n",
       "      <th>OrderID</th>\n",
       "      <th>Revenue</th>\n",
       "    </tr>\n",
       "  </thead>\n",
       "  <tbody>\n",
       "    <tr>\n",
       "      <th>0</th>\n",
       "      <td>680376</td>\n",
       "      <td>2018-12-20 22:11:35.000</td>\n",
       "      <td>Customer- 2nd Home</td>\n",
       "      <td>44</td>\n",
       "      <td>1</td>\n",
       "      <td>0.0</td>\n",
       "      <td>1</td>\n",
       "      <td>NaN</td>\n",
       "      <td>NaN</td>\n",
       "      <td>NaT</td>\n",
       "      <td>NaT</td>\n",
       "      <td>NaN</td>\n",
       "      <td>NaN</td>\n",
       "    </tr>\n",
       "    <tr>\n",
       "      <th>1</th>\n",
       "      <td>200758</td>\n",
       "      <td>2018-11-20 09:05:57.261</td>\n",
       "      <td>Customer- New Home</td>\n",
       "      <td>2</td>\n",
       "      <td>1</td>\n",
       "      <td>0.0</td>\n",
       "      <td>1</td>\n",
       "      <td>NaN</td>\n",
       "      <td>NaN</td>\n",
       "      <td>NaT</td>\n",
       "      <td>NaT</td>\n",
       "      <td>NaN</td>\n",
       "      <td>NaN</td>\n",
       "    </tr>\n",
       "  </tbody>\n",
       "</table>\n",
       "</div>"
      ],
      "text/plain": [
       "   LeadID        LeadCreationDate            LeadType  LeadScore  Lead Slice  \\\n",
       "0  680376 2018-12-20 22:11:35.000  Customer- 2nd Home         44           1   \n",
       "1  200758 2018-11-20 09:05:57.261  Customer- New Home          2           1   \n",
       "\n",
       "   45dayRev  LeadOwnerEmpId  EmpID  LeadIDCalled CallStartTime CallEndTime  \\\n",
       "0       0.0               1    NaN           NaN           NaT         NaT   \n",
       "1       0.0               1    NaN           NaN           NaT         NaT   \n",
       "\n",
       "   OrderID  Revenue  \n",
       "0      NaN      NaN  \n",
       "1      NaN      NaN  "
      ]
     },
     "execution_count": 11,
     "metadata": {},
     "output_type": "execute_result"
    }
   ],
   "source": [
    "leads_merged_df.head(2)"
   ]
  },
  {
   "cell_type": "markdown",
   "metadata": {},
   "source": [
    "As per our assumptions since, the leads are generated on a given date, we only consider the activity history (CallStartTime) <b>greater than and equal to </b>the Lead Created Date (LeadCreationDate)"
   ]
  },
  {
   "cell_type": "code",
   "execution_count": 12,
   "metadata": {},
   "outputs": [],
   "source": [
    "leads_merged_df = leads_merged_df[leads_merged_df['CallStartTime']>=leads_merged_df['LeadCreationDate']]"
   ]
  },
  {
   "cell_type": "code",
   "execution_count": 13,
   "metadata": {},
   "outputs": [
    {
     "name": "stdout",
     "output_type": "stream",
     "text": [
      "The Shape of Merged Data Source  is now :  (12524, 13)\n"
     ]
    }
   ],
   "source": [
    "print(\"The Shape of Merged Data Source  is now : \", leads_merged_df.shape)"
   ]
  },
  {
   "cell_type": "code",
   "execution_count": 14,
   "metadata": {},
   "outputs": [
    {
     "data": {
      "text/html": [
       "<div>\n",
       "<style scoped>\n",
       "    .dataframe tbody tr th:only-of-type {\n",
       "        vertical-align: middle;\n",
       "    }\n",
       "\n",
       "    .dataframe tbody tr th {\n",
       "        vertical-align: top;\n",
       "    }\n",
       "\n",
       "    .dataframe thead th {\n",
       "        text-align: right;\n",
       "    }\n",
       "</style>\n",
       "<table border=\"1\" class=\"dataframe\">\n",
       "  <thead>\n",
       "    <tr style=\"text-align: right;\">\n",
       "      <th></th>\n",
       "      <th>LeadID</th>\n",
       "      <th>LeadCreationDate</th>\n",
       "      <th>LeadType</th>\n",
       "      <th>LeadScore</th>\n",
       "      <th>Lead Slice</th>\n",
       "      <th>45dayRev</th>\n",
       "      <th>LeadOwnerEmpId</th>\n",
       "      <th>EmpID</th>\n",
       "      <th>LeadIDCalled</th>\n",
       "      <th>CallStartTime</th>\n",
       "      <th>CallEndTime</th>\n",
       "      <th>OrderID</th>\n",
       "      <th>Revenue</th>\n",
       "    </tr>\n",
       "  </thead>\n",
       "  <tbody>\n",
       "    <tr>\n",
       "      <th>2312</th>\n",
       "      <td>997865</td>\n",
       "      <td>2019-01-10 00:08:12.478</td>\n",
       "      <td>Out of Stock</td>\n",
       "      <td>52</td>\n",
       "      <td>0</td>\n",
       "      <td>1889.17</td>\n",
       "      <td>951</td>\n",
       "      <td>951.0</td>\n",
       "      <td>997865.0</td>\n",
       "      <td>2019-03-02 11:19:10.292</td>\n",
       "      <td>2019-03-02 11:22:06.692</td>\n",
       "      <td>46619891.0</td>\n",
       "      <td>578.78</td>\n",
       "    </tr>\n",
       "    <tr>\n",
       "      <th>2315</th>\n",
       "      <td>811632</td>\n",
       "      <td>2018-12-31 19:04:00.142</td>\n",
       "      <td>Customer- New Home</td>\n",
       "      <td>69</td>\n",
       "      <td>0</td>\n",
       "      <td>1789.06</td>\n",
       "      <td>796</td>\n",
       "      <td>796.0</td>\n",
       "      <td>811632.0</td>\n",
       "      <td>2019-02-01 13:36:29.899</td>\n",
       "      <td>2019-02-01 13:39:34.099</td>\n",
       "      <td>60001936.0</td>\n",
       "      <td>1789.06</td>\n",
       "    </tr>\n",
       "  </tbody>\n",
       "</table>\n",
       "</div>"
      ],
      "text/plain": [
       "      LeadID        LeadCreationDate            LeadType  LeadScore  \\\n",
       "2312  997865 2019-01-10 00:08:12.478        Out of Stock         52   \n",
       "2315  811632 2018-12-31 19:04:00.142  Customer- New Home         69   \n",
       "\n",
       "      Lead Slice  45dayRev  LeadOwnerEmpId  EmpID  LeadIDCalled  \\\n",
       "2312           0   1889.17             951  951.0      997865.0   \n",
       "2315           0   1789.06             796  796.0      811632.0   \n",
       "\n",
       "               CallStartTime             CallEndTime     OrderID  Revenue  \n",
       "2312 2019-03-02 11:19:10.292 2019-03-02 11:22:06.692  46619891.0   578.78  \n",
       "2315 2019-02-01 13:36:29.899 2019-02-01 13:39:34.099  60001936.0  1789.06  "
      ]
     },
     "execution_count": 14,
     "metadata": {},
     "output_type": "execute_result"
    }
   ],
   "source": [
    "leads_merged_df.head(2)"
   ]
  },
  {
   "cell_type": "markdown",
   "metadata": {},
   "source": [
    "We see that we loose out chunk of the activity history<b> (~ 15K )</b> of the agents when we constrained the activity to greater than or equal to lead generation date\n",
    "\n",
    "In order to see, if the final conclusion depends on this assumption or not, we will remove this constraint and check the conclusion in the future."
   ]
  },
  {
   "cell_type": "markdown",
   "metadata": {},
   "source": [
    "Now, In order to have an estimate of the time spent by Agent on each call (in seconds), we calculate the difference of Call End Time and Call Start Time"
   ]
  },
  {
   "cell_type": "code",
   "execution_count": 15,
   "metadata": {},
   "outputs": [],
   "source": [
    "leads_merged_df['call_time_ss']=(leads_merged_df.CallEndTime-\n",
    "                                 leads_merged_df.CallStartTime).astype('timedelta64[s]')"
   ]
  },
  {
   "cell_type": "markdown",
   "metadata": {},
   "source": [
    "Since, the merged data is not aggregated at Leads level, we aggregate the data and calculate sum of call time and revenue respectively."
   ]
  },
  {
   "cell_type": "code",
   "execution_count": 16,
   "metadata": {},
   "outputs": [
    {
     "data": {
      "text/html": [
       "<div>\n",
       "<style scoped>\n",
       "    .dataframe tbody tr th:only-of-type {\n",
       "        vertical-align: middle;\n",
       "    }\n",
       "\n",
       "    .dataframe tbody tr th {\n",
       "        vertical-align: top;\n",
       "    }\n",
       "\n",
       "    .dataframe thead th {\n",
       "        text-align: right;\n",
       "    }\n",
       "</style>\n",
       "<table border=\"1\" class=\"dataframe\">\n",
       "  <thead>\n",
       "    <tr style=\"text-align: right;\">\n",
       "      <th></th>\n",
       "      <th>LeadID</th>\n",
       "      <th>LeadType</th>\n",
       "      <th>Lead Slice</th>\n",
       "      <th>45dayRev</th>\n",
       "      <th>LeadCreationDate</th>\n",
       "      <th>call_time_ss</th>\n",
       "      <th>Revenue</th>\n",
       "    </tr>\n",
       "  </thead>\n",
       "  <tbody>\n",
       "    <tr>\n",
       "      <th>0</th>\n",
       "      <td>100622</td>\n",
       "      <td>Out of Stock</td>\n",
       "      <td>0</td>\n",
       "      <td>6206.65</td>\n",
       "      <td>2019-01-27 09:52:47.748</td>\n",
       "      <td>33.0</td>\n",
       "      <td>579.02</td>\n",
       "    </tr>\n",
       "    <tr>\n",
       "      <th>1</th>\n",
       "      <td>100639</td>\n",
       "      <td>Customer- New Home</td>\n",
       "      <td>0</td>\n",
       "      <td>1177.70</td>\n",
       "      <td>2019-02-03 15:10:59.672</td>\n",
       "      <td>336.0</td>\n",
       "      <td>167.74</td>\n",
       "    </tr>\n",
       "    <tr>\n",
       "      <th>2</th>\n",
       "      <td>100656</td>\n",
       "      <td>Out of Stock</td>\n",
       "      <td>0</td>\n",
       "      <td>11743.42</td>\n",
       "      <td>2018-12-16 06:31:19.793</td>\n",
       "      <td>1032.0</td>\n",
       "      <td>0.00</td>\n",
       "    </tr>\n",
       "    <tr>\n",
       "      <th>3</th>\n",
       "      <td>100659</td>\n",
       "      <td>Customer- 2nd Home</td>\n",
       "      <td>0</td>\n",
       "      <td>0.00</td>\n",
       "      <td>2019-01-02 02:18:42.584</td>\n",
       "      <td>805.0</td>\n",
       "      <td>0.00</td>\n",
       "    </tr>\n",
       "    <tr>\n",
       "      <th>4</th>\n",
       "      <td>101195</td>\n",
       "      <td>Customer- New Home</td>\n",
       "      <td>0</td>\n",
       "      <td>0.00</td>\n",
       "      <td>2019-03-12 23:27:40.599</td>\n",
       "      <td>274.0</td>\n",
       "      <td>0.00</td>\n",
       "    </tr>\n",
       "  </tbody>\n",
       "</table>\n",
       "</div>"
      ],
      "text/plain": [
       "   LeadID            LeadType  Lead Slice  45dayRev        LeadCreationDate  \\\n",
       "0  100622        Out of Stock           0   6206.65 2019-01-27 09:52:47.748   \n",
       "1  100639  Customer- New Home           0   1177.70 2019-02-03 15:10:59.672   \n",
       "2  100656        Out of Stock           0  11743.42 2018-12-16 06:31:19.793   \n",
       "3  100659  Customer- 2nd Home           0      0.00 2019-01-02 02:18:42.584   \n",
       "4  101195  Customer- New Home           0      0.00 2019-03-12 23:27:40.599   \n",
       "\n",
       "   call_time_ss  Revenue  \n",
       "0          33.0   579.02  \n",
       "1         336.0   167.74  \n",
       "2        1032.0     0.00  \n",
       "3         805.0     0.00  \n",
       "4         274.0     0.00  "
      ]
     },
     "execution_count": 16,
     "metadata": {},
     "output_type": "execute_result"
    }
   ],
   "source": [
    "analysis_temp_df = leads_merged_df.groupby(['LeadID','LeadType','Lead Slice','45dayRev','LeadCreationDate'],as_index=False).agg({'call_time_ss':'sum','Revenue':'sum'})\n",
    "analysis_temp_df.head(5)"
   ]
  },
  {
   "cell_type": "code",
   "execution_count": 17,
   "metadata": {},
   "outputs": [
    {
     "data": {
      "image/png": "[encoded data removed]",
      "text/plain": [
       "<Figure size 1080x360 with 1 Axes>"
      ]
     },
     "metadata": {},
     "output_type": "display_data"
    }
   ],
   "source": [
    "plt.figure(figsize=(15, 5))\n",
    "ax = sns.stripplot(y=\"LeadType\", x=\"Revenue\", jitter = True, data=analysis_temp_df)\n",
    "ax = sns.boxplot(y=\"LeadType\", x=\"Revenue\", data=analysis_temp_df, whis=np.inf)\n",
    "ax.set_ylabel('Revenue', fontsize = 10)\n",
    "sns.set_style(\"whitegrid\", {'grid' : False})"
   ]
  },
  {
   "cell_type": "markdown",
   "metadata": {},
   "source": [
    "The above box plot integrated with strip plot shows the density with the median values of the revenue across the leads for the 3 lead types. "
   ]
  },
  {
   "cell_type": "code",
   "execution_count": 18,
   "metadata": {},
   "outputs": [
    {
     "data": {
      "text/html": [
       "<div>\n",
       "<style scoped>\n",
       "    .dataframe tbody tr th:only-of-type {\n",
       "        vertical-align: middle;\n",
       "    }\n",
       "\n",
       "    .dataframe tbody tr th {\n",
       "        vertical-align: top;\n",
       "    }\n",
       "\n",
       "    .dataframe thead th {\n",
       "        text-align: right;\n",
       "    }\n",
       "</style>\n",
       "<table border=\"1\" class=\"dataframe\">\n",
       "  <thead>\n",
       "    <tr style=\"text-align: right;\">\n",
       "      <th></th>\n",
       "      <th>LeadType</th>\n",
       "      <th>Lead Slice</th>\n",
       "      <th>Total_Leads</th>\n",
       "      <th>Total_45dayRev</th>\n",
       "      <th>Total_Revenue</th>\n",
       "      <th>Total_Call_Time</th>\n",
       "      <th>Total_Call_Cost</th>\n",
       "      <th>Avg_45dayRev</th>\n",
       "      <th>Avg_Revenue</th>\n",
       "      <th>Avg_Call_Cost</th>\n",
       "    </tr>\n",
       "  </thead>\n",
       "  <tbody>\n",
       "    <tr>\n",
       "      <th>0</th>\n",
       "      <td>Customer- 2nd Home</td>\n",
       "      <td>0</td>\n",
       "      <td>1833</td>\n",
       "      <td>5243641.248</td>\n",
       "      <td>4234475.39</td>\n",
       "      <td>1246988.0</td>\n",
       "      <td>8659.638889</td>\n",
       "      <td>2860.688079</td>\n",
       "      <td>2310.133873</td>\n",
       "      <td>4.724298</td>\n",
       "    </tr>\n",
       "    <tr>\n",
       "      <th>1</th>\n",
       "      <td>Customer- New Home</td>\n",
       "      <td>0</td>\n",
       "      <td>1831</td>\n",
       "      <td>6292008.580</td>\n",
       "      <td>4048415.64</td>\n",
       "      <td>1216034.0</td>\n",
       "      <td>8444.680556</td>\n",
       "      <td>3436.378252</td>\n",
       "      <td>2211.040765</td>\n",
       "      <td>4.612059</td>\n",
       "    </tr>\n",
       "    <tr>\n",
       "      <th>2</th>\n",
       "      <td>Out of Stock</td>\n",
       "      <td>0</td>\n",
       "      <td>1905</td>\n",
       "      <td>6918285.120</td>\n",
       "      <td>4487107.01</td>\n",
       "      <td>1303579.0</td>\n",
       "      <td>9052.631944</td>\n",
       "      <td>3631.645732</td>\n",
       "      <td>2355.436751</td>\n",
       "      <td>4.752038</td>\n",
       "    </tr>\n",
       "  </tbody>\n",
       "</table>\n",
       "</div>"
      ],
      "text/plain": [
       "             LeadType  Lead Slice  Total_Leads  Total_45dayRev  Total_Revenue  \\\n",
       "0  Customer- 2nd Home           0         1833     5243641.248     4234475.39   \n",
       "1  Customer- New Home           0         1831     6292008.580     4048415.64   \n",
       "2        Out of Stock           0         1905     6918285.120     4487107.01   \n",
       "\n",
       "   Total_Call_Time  Total_Call_Cost  Avg_45dayRev  Avg_Revenue  Avg_Call_Cost  \n",
       "0        1246988.0      8659.638889   2860.688079  2310.133873       4.724298  \n",
       "1        1216034.0      8444.680556   3436.378252  2211.040765       4.612059  \n",
       "2        1303579.0      9052.631944   3631.645732  2355.436751       4.752038  "
      ]
     },
     "execution_count": 18,
     "metadata": {},
     "output_type": "execute_result"
    }
   ],
   "source": [
    "analysis_df = analysis_temp_df.groupby(['LeadType','Lead Slice'],as_index=False).agg({'LeadID':'count',\n",
    "                                                                '45dayRev':'sum','Revenue':'sum',\n",
    "                                                                'call_time_ss':'sum'})\n",
    "\n",
    "analysis_df.rename(columns={'LeadID': 'Total_Leads', '45dayRev': 'Total_45dayRev','Revenue':'Total_Revenue','call_time_ss':'Total_Call_Time'}, inplace=True)\n",
    "\n",
    "analysis_df['Total_Call_Cost'] = analysis_df['Total_Call_Time'] * (25/3600)\n",
    "analysis_df['Avg_45dayRev'] = analysis_df['Total_45dayRev']/analysis_df['Total_Leads']\n",
    "analysis_df['Avg_Revenue'] = analysis_df['Total_Revenue']/analysis_df['Total_Leads']\n",
    "analysis_df['Avg_Call_Cost'] = analysis_df['Total_Call_Cost']/analysis_df['Total_Leads']\n",
    "analysis_df"
   ]
  },
  {
   "cell_type": "code",
   "execution_count": 19,
   "metadata": {},
   "outputs": [
    {
     "data": {
      "text/html": [
       "<div>\n",
       "<style scoped>\n",
       "    .dataframe tbody tr th:only-of-type {\n",
       "        vertical-align: middle;\n",
       "    }\n",
       "\n",
       "    .dataframe tbody tr th {\n",
       "        vertical-align: top;\n",
       "    }\n",
       "\n",
       "    .dataframe thead th {\n",
       "        text-align: right;\n",
       "    }\n",
       "</style>\n",
       "<table border=\"1\" class=\"dataframe\">\n",
       "  <thead>\n",
       "    <tr style=\"text-align: right;\">\n",
       "      <th></th>\n",
       "      <th>LeadType</th>\n",
       "      <th>Control Lead Slice</th>\n",
       "      <th>Total_Control_Leads</th>\n",
       "      <th>Avg_Control_45dayRev</th>\n",
       "    </tr>\n",
       "  </thead>\n",
       "  <tbody>\n",
       "    <tr>\n",
       "      <th>0</th>\n",
       "      <td>Customer- 2nd Home</td>\n",
       "      <td>1</td>\n",
       "      <td>612</td>\n",
       "      <td>2492.851634</td>\n",
       "    </tr>\n",
       "    <tr>\n",
       "      <th>1</th>\n",
       "      <td>Customer- New Home</td>\n",
       "      <td>1</td>\n",
       "      <td>650</td>\n",
       "      <td>3554.988308</td>\n",
       "    </tr>\n",
       "    <tr>\n",
       "      <th>2</th>\n",
       "      <td>Out of Stock</td>\n",
       "      <td>1</td>\n",
       "      <td>712</td>\n",
       "      <td>3269.597157</td>\n",
       "    </tr>\n",
       "  </tbody>\n",
       "</table>\n",
       "</div>"
      ],
      "text/plain": [
       "             LeadType  Control Lead Slice  Total_Control_Leads  \\\n",
       "0  Customer- 2nd Home                   1                  612   \n",
       "1  Customer- New Home                   1                  650   \n",
       "2        Out of Stock                   1                  712   \n",
       "\n",
       "   Avg_Control_45dayRev  \n",
       "0           2492.851634  \n",
       "1           3554.988308  \n",
       "2           3269.597157  "
      ]
     },
     "execution_count": 19,
     "metadata": {},
     "output_type": "execute_result"
    }
   ],
   "source": [
    "analysis_control_df = lead_table_df[lead_table_df['Lead Slice']==1].groupby(['LeadType','Lead Slice'],as_index=False).agg({'45dayRev':['count','mean']})\n",
    "analysis_control_df.columns = ['LeadType', 'Control Lead Slice','Total_Control_Leads','Avg_Control_45dayRev']\n",
    "analysis_control_df"
   ]
  },
  {
   "cell_type": "code",
   "execution_count": 20,
   "metadata": {},
   "outputs": [
    {
     "data": {
      "text/html": [
       "<div>\n",
       "<style scoped>\n",
       "    .dataframe tbody tr th:only-of-type {\n",
       "        vertical-align: middle;\n",
       "    }\n",
       "\n",
       "    .dataframe tbody tr th {\n",
       "        vertical-align: top;\n",
       "    }\n",
       "\n",
       "    .dataframe thead th {\n",
       "        text-align: right;\n",
       "    }\n",
       "</style>\n",
       "<table border=\"1\" class=\"dataframe\">\n",
       "  <thead>\n",
       "    <tr style=\"text-align: right;\">\n",
       "      <th></th>\n",
       "      <th>LeadType</th>\n",
       "      <th>Total_Test_Leads</th>\n",
       "      <th>Avg_Test_45dayRev</th>\n",
       "      <th>Avg_Revenue</th>\n",
       "      <th>Avg_Call_Cost</th>\n",
       "      <th>Control Lead Slice</th>\n",
       "      <th>Total_Control_Leads</th>\n",
       "      <th>Avg_Control_45dayRev</th>\n",
       "    </tr>\n",
       "  </thead>\n",
       "  <tbody>\n",
       "    <tr>\n",
       "      <th>0</th>\n",
       "      <td>Customer- 2nd Home</td>\n",
       "      <td>1833</td>\n",
       "      <td>2860.688079</td>\n",
       "      <td>2310.133873</td>\n",
       "      <td>4.724298</td>\n",
       "      <td>1</td>\n",
       "      <td>612</td>\n",
       "      <td>2492.851634</td>\n",
       "    </tr>\n",
       "    <tr>\n",
       "      <th>1</th>\n",
       "      <td>Customer- New Home</td>\n",
       "      <td>1831</td>\n",
       "      <td>3436.378252</td>\n",
       "      <td>2211.040765</td>\n",
       "      <td>4.612059</td>\n",
       "      <td>1</td>\n",
       "      <td>650</td>\n",
       "      <td>3554.988308</td>\n",
       "    </tr>\n",
       "    <tr>\n",
       "      <th>2</th>\n",
       "      <td>Out of Stock</td>\n",
       "      <td>1905</td>\n",
       "      <td>3631.645732</td>\n",
       "      <td>2355.436751</td>\n",
       "      <td>4.752038</td>\n",
       "      <td>1</td>\n",
       "      <td>712</td>\n",
       "      <td>3269.597157</td>\n",
       "    </tr>\n",
       "  </tbody>\n",
       "</table>\n",
       "</div>"
      ],
      "text/plain": [
       "             LeadType  Total_Test_Leads  Avg_Test_45dayRev  Avg_Revenue  \\\n",
       "0  Customer- 2nd Home              1833        2860.688079  2310.133873   \n",
       "1  Customer- New Home              1831        3436.378252  2211.040765   \n",
       "2        Out of Stock              1905        3631.645732  2355.436751   \n",
       "\n",
       "   Avg_Call_Cost  Control Lead Slice  Total_Control_Leads  \\\n",
       "0       4.724298                   1                  612   \n",
       "1       4.612059                   1                  650   \n",
       "2       4.752038                   1                  712   \n",
       "\n",
       "   Avg_Control_45dayRev  \n",
       "0           2492.851634  \n",
       "1           3554.988308  \n",
       "2           3269.597157  "
      ]
     },
     "execution_count": 20,
     "metadata": {},
     "output_type": "execute_result"
    }
   ],
   "source": [
    "summary_df = analysis_df[['LeadType','Total_Leads','Avg_45dayRev','Avg_Revenue','Avg_Call_Cost']].merge(analysis_control_df,how='inner',left_on='LeadType', right_on='LeadType')\n",
    "summary_df.rename(columns={'Total_Leads': 'Total_Test_Leads', 'Avg_45dayRev': 'Avg_Test_45dayRev'}, inplace=True)\n",
    "summary_df"
   ]
  },
  {
   "cell_type": "markdown",
   "metadata": {},
   "source": [
    "We see that for the Lead Type \"Customer- 2nd Home\" the difference in Average 45 Day Revenue of Control group is not significantly different from the called generated revenue. \n",
    "\n",
    "However, for \"Customer- New Home\" and \"Out of Stock\", there is significant difference betwen the Average 45 Day Revenue of Control Group against the Called Generated Revenue"
   ]
  },
  {
   "cell_type": "markdown",
   "metadata": {},
   "source": [
    "Now, we frame hypothesis around the samples and use Hypothesis Testing to confirm if the difference is significant or not"
   ]
  },
  {
   "cell_type": "code",
   "execution_count": 23,
   "metadata": {},
   "outputs": [
    {
     "name": "stdout",
     "output_type": "stream",
     "text": [
      "Test for Significance in Difference of Means across Control/Test Groups for Customer- 2nd Home : \n",
      "\n",
      "\n",
      "Ttest_indResult(statistic=0.6542987758547435, pvalue=0.5131364200923476)\n"
     ]
    }
   ],
   "source": [
    "from scipy import stats\n",
    "\n",
    "contrl_2ndhome_df = lead_table_df[(lead_table_df['LeadType']=='Customer- 2nd Home') & (lead_table_df['Lead Slice'] == 1) ]['45dayRev']\n",
    "var_2ndhome_df = analysis_temp_df[((analysis_temp_df['LeadType']=='Customer- 2nd Home') & (analysis_temp_df['Lead Slice'] == 0) )]['Revenue']\n",
    "\n",
    "print(\"Test for Significance in Difference of Means across Control/Test Groups for Customer- 2nd Home : \")\n",
    "print(\"\\n\")\n",
    "print(stats.ttest_ind(contrl_2ndhome_df, var_2ndhome_df, equal_var = False))"
   ]
  },
  {
   "cell_type": "markdown",
   "metadata": {},
   "source": [
    "We see that there is <b>No Significant Difference </b> between 45 day revenue per lead between called and controlled slice as p-value > 0.05 (Assuming 5% Level of Significance)\n",
    "\n",
    "So we can rely on the leads suggested by the Data Science Team for <b>Customer - 2nd Home</b> Lead Type"
   ]
  },
  {
   "cell_type": "code",
   "execution_count": 24,
   "metadata": {},
   "outputs": [
    {
     "name": "stdout",
     "output_type": "stream",
     "text": [
      "Test for Significance in Difference of Means across Control/Test Groups for Customer- New Home : \n",
      "Ttest_indResult(statistic=2.952490733947311, pvalue=0.0032608946359735384)\n",
      "\n",
      "\n",
      "Test for Significance in Difference of Means across Control/Test Groups for Out of Stock : \n",
      "Ttest_indResult(statistic=2.5880465400358905, pvalue=0.0098356121068178)\n"
     ]
    }
   ],
   "source": [
    "contrl_newhome_df = lead_table_df[(lead_table_df['LeadType']=='Customer- New Home') & (lead_table_df['Lead Slice'] == 1) ]['45dayRev']\n",
    "var_newhome_df = analysis_temp_df[((analysis_temp_df['LeadType']=='Customer- New Home') & (analysis_temp_df['Lead Slice'] == 0) )]['Revenue']\n",
    "\n",
    "print(\"Test for Significance in Difference of Means across Control/Test Groups for Customer- New Home : \")\n",
    "print(stats.ttest_ind(contrl_newhome_df, var_newhome_df, equal_var = False))\n",
    "\n",
    "\n",
    "contrl_outofstock_df = lead_table_df[(lead_table_df['LeadType']=='Out of Stock') & (lead_table_df['Lead Slice'] == 1) ]['45dayRev']\n",
    "var_outofstock_df = analysis_temp_df[((analysis_temp_df['LeadType']=='Out of Stock') & (analysis_temp_df['Lead Slice'] == 0) )]['Revenue']\n",
    "\n",
    "print(\"\\n\")\n",
    "print(\"Test for Significance in Difference of Means across Control/Test Groups for Out of Stock : \")\n",
    "print(stats.ttest_ind(contrl_outofstock_df, var_outofstock_df, equal_var = False))"
   ]
  },
  {
   "cell_type": "markdown",
   "metadata": {},
   "source": [
    "We see that there is <b>Significant Difference </b> between 45 day revenue per lead between called and\n",
    "controlled slice as p-value < 0.05 and we reject our Null Hypothesis - \"45 Day Expected Revenue is equal to Called Revenue Generated\" (Assuming 5% Level of Significance) both for <b> Customer- New Home and Out of Stock </b>Leads\n"
   ]
  },
  {
   "cell_type": "markdown",
   "metadata": {},
   "source": [
    "Tenets for driving outbound program:"
   ]
  },
  {
   "cell_type": "markdown",
   "metadata": {},
   "source": [
    "We consider positive incrementality % and Variable Contribution Margin (VCD) as the criteria to drive the outbound program. "
   ]
  },
  {
   "cell_type": "code",
   "execution_count": 25,
   "metadata": {},
   "outputs": [],
   "source": [
    "summary_df['Incrementality'] = (summary_df['Avg_Revenue'] - summary_df['Avg_Control_45dayRev'])*100/summary_df['Avg_Control_45dayRev']\n",
    "summary_df['VCD'] = summary_df['Avg_Revenue']*summary_df['Total_Test_Leads']-summary_df['Avg_Control_45dayRev']*summary_df['Total_Control_Leads']-summary_df['Avg_Call_Cost']*summary_df['Total_Test_Leads']"
   ]
  },
  {
   "cell_type": "code",
   "execution_count": 26,
   "metadata": {},
   "outputs": [
    {
     "data": {
      "text/html": [
       "<div>\n",
       "<style scoped>\n",
       "    .dataframe tbody tr th:only-of-type {\n",
       "        vertical-align: middle;\n",
       "    }\n",
       "\n",
       "    .dataframe tbody tr th {\n",
       "        vertical-align: top;\n",
       "    }\n",
       "\n",
       "    .dataframe thead th {\n",
       "        text-align: right;\n",
       "    }\n",
       "</style>\n",
       "<table border=\"1\" class=\"dataframe\">\n",
       "  <thead>\n",
       "    <tr style=\"text-align: right;\">\n",
       "      <th></th>\n",
       "      <th>LeadType</th>\n",
       "      <th>Total_Test_Leads</th>\n",
       "      <th>Avg_Test_45dayRev</th>\n",
       "      <th>Avg_Revenue</th>\n",
       "      <th>Avg_Call_Cost</th>\n",
       "      <th>Control Lead Slice</th>\n",
       "      <th>Total_Control_Leads</th>\n",
       "      <th>Avg_Control_45dayRev</th>\n",
       "      <th>Incrementality</th>\n",
       "      <th>VCD</th>\n",
       "    </tr>\n",
       "  </thead>\n",
       "  <tbody>\n",
       "    <tr>\n",
       "      <th>0</th>\n",
       "      <td>Customer- 2nd Home</td>\n",
       "      <td>1833</td>\n",
       "      <td>2860.68808</td>\n",
       "      <td>2310.13387</td>\n",
       "      <td>4.72430</td>\n",
       "      <td>1</td>\n",
       "      <td>612</td>\n",
       "      <td>2492.85163</td>\n",
       "      <td>-7.32967</td>\n",
       "      <td>2700190.55111</td>\n",
       "    </tr>\n",
       "    <tr>\n",
       "      <th>1</th>\n",
       "      <td>Customer- New Home</td>\n",
       "      <td>1831</td>\n",
       "      <td>3436.37825</td>\n",
       "      <td>2211.04076</td>\n",
       "      <td>4.61206</td>\n",
       "      <td>1</td>\n",
       "      <td>650</td>\n",
       "      <td>3554.98831</td>\n",
       "      <td>-37.80456</td>\n",
       "      <td>1729228.55944</td>\n",
       "    </tr>\n",
       "    <tr>\n",
       "      <th>2</th>\n",
       "      <td>Out of Stock</td>\n",
       "      <td>1905</td>\n",
       "      <td>3631.64573</td>\n",
       "      <td>2355.43675</td>\n",
       "      <td>4.75204</td>\n",
       "      <td>1</td>\n",
       "      <td>712</td>\n",
       "      <td>3269.59716</td>\n",
       "      <td>-27.95942</td>\n",
       "      <td>2150101.20206</td>\n",
       "    </tr>\n",
       "  </tbody>\n",
       "</table>\n",
       "</div>"
      ],
      "text/plain": [
       "             LeadType  Total_Test_Leads  Avg_Test_45dayRev  Avg_Revenue  \\\n",
       "0  Customer- 2nd Home              1833         2860.68808   2310.13387   \n",
       "1  Customer- New Home              1831         3436.37825   2211.04076   \n",
       "2        Out of Stock              1905         3631.64573   2355.43675   \n",
       "\n",
       "   Avg_Call_Cost  Control Lead Slice  Total_Control_Leads  \\\n",
       "0        4.72430                   1                  612   \n",
       "1        4.61206                   1                  650   \n",
       "2        4.75204                   1                  712   \n",
       "\n",
       "   Avg_Control_45dayRev  Incrementality           VCD  \n",
       "0            2492.85163        -7.32967 2700190.55111  \n",
       "1            3554.98831       -37.80456 1729228.55944  \n",
       "2            3269.59716       -27.95942 2150101.20206  "
      ]
     },
     "execution_count": 26,
     "metadata": {},
     "output_type": "execute_result"
    }
   ],
   "source": [
    "pd.options.display.float_format = '{:.5f}'.format \n",
    "summary_df"
   ]
  },
  {
   "cell_type": "code",
   "execution_count": 27,
   "metadata": {},
   "outputs": [],
   "source": [
    "summary_df.to_csv('summary.csv')"
   ]
  },
  {
   "cell_type": "markdown",
   "metadata": {},
   "source": [
    "So, from the above table we see that the Average 45 Day Revenue for the <b>Customer- 2nd Home </b>Control Group is slightly more than Average Called Revenue. Hence the Incrementality is on the negative side. The VCD being <b>2700190.55111</b>. This is better as compared to the other Lead Types - New Home and Out of Stock.\n",
    "\n",
    "From Hypothesis Testing, we proved that the difference in 45 Day Revenue between Called and Control Group for Customer- 2nd Home is  <b>not significant </b>. However the difference is <b>significant </b>for the other lead types and which is consistent with the figures shown as well.\n",
    "\n",
    "So far, the analysis is based on the assumption of <b>using lead activities after the respective lead generation date </b>. If we try ignoring this assumption and consider the revenue earned irrespective of the lead generation date, we will end with positive incrementality % and positivie VCD for <b>Customer- 2nd Home </b>, thereby assuring us that calling leads help us keep the leads engaging and bring in more revenue"
   ]
  },
  {
   "cell_type": "code",
   "execution_count": 28,
   "metadata": {},
   "outputs": [
    {
     "data": {
      "image/png": "[encoded data removed]",
      "text/plain": [
       "<Figure size 1296x576 with 1 Axes>"
      ]
     },
     "metadata": {},
     "output_type": "display_data"
    }
   ],
   "source": [
    "leads_merged_binned_df = leads_merged_df[(leads_merged_df['LeadType']=='Customer- 2nd Home') & \n",
    "                (leads_merged_df['Lead Slice']==0)]\n",
    "leads_merged_binned_df['LeadScore_Bin'] = pd.cut(leads_merged_df[(leads_merged_df['LeadType']=='Customer- 2nd Home') & \n",
    "                (leads_merged_df['Lead Slice']==0)]['LeadScore'], bins=10)\n",
    "leads_binned_analysis_df = leads_merged_binned_df.groupby(['LeadScore_Bin'],as_index=False).agg({'Revenue':'mean','call_time_ss':'mean'})\n",
    "plt.figure(figsize=(18,8))\n",
    "sns.barplot(x=\"LeadScore_Bin\",y=\"Revenue\",data=leads_merged_binned_df)\n",
    "sns.set_style(\"whitegrid\")"
   ]
  },
  {
   "cell_type": "markdown",
   "metadata": {},
   "source": [
    "For Second Customer Home Leads, we see that the average revenue for Lead Score Bins 20-30 is highest. And the average  revenue for bins 30-40, 50-60 and 70-80 are higher as compared to the others."
   ]
  },
  {
   "cell_type": "code",
   "execution_count": 29,
   "metadata": {},
   "outputs": [
    {
     "data": {
      "image/png": "[encoded data removed]",
      "text/plain": [
       "<Figure size 1296x360 with 2 Axes>"
      ]
     },
     "metadata": {},
     "output_type": "display_data"
    }
   ],
   "source": [
    "success_df = leads_merged_df[(leads_merged_df['LeadType']=='Customer- 2nd Home') & \n",
    "                (leads_merged_df['Lead Slice']==0) & (leads_merged_df['OrderID'] !=0)]\n",
    "success_df['CalledDay'] = success_df['CallStartTime'].dt.day_name()\n",
    "success_df['CalledHour'] = success_df['CallStartTime'].dt.hour\n",
    "\n",
    "fig, ax =plt.subplots(1,2,figsize=(18,5))\n",
    "\n",
    "day_temp_df = success_df.groupby(['CalledDay'],as_index=False).agg({'Revenue':'mean'})\n",
    "sns.lineplot(x=\"CalledDay\", y=\"Revenue\", data=day_temp_df, ax=ax[0],label=\"Revenue Across Days of Week\")\n",
    "\n",
    "hr_temp_df = success_df.groupby(['CalledHour'],as_index=False).agg({'Revenue':'mean'})\n",
    "import seaborn as sns; sns.set()\n",
    "sns.lineplot(x=\"CalledHour\", y=\"Revenue\", data=hr_temp_df, ax=ax[1],label=\"Revenue Across Hour of Day\")\n",
    "plt.show()\n",
    "\n",
    "sns.set_style(\"dark\", {'grid' : False})"
   ]
  },
  {
   "cell_type": "code",
   "execution_count": 47,
   "metadata": {},
   "outputs": [
    {
     "data": {
      "text/html": [
       "<div>\n",
       "<style scoped>\n",
       "    .dataframe tbody tr th:only-of-type {\n",
       "        vertical-align: middle;\n",
       "    }\n",
       "\n",
       "    .dataframe tbody tr th {\n",
       "        vertical-align: top;\n",
       "    }\n",
       "\n",
       "    .dataframe thead th {\n",
       "        text-align: right;\n",
       "    }\n",
       "</style>\n",
       "<table border=\"1\" class=\"dataframe\">\n",
       "  <thead>\n",
       "    <tr style=\"text-align: right;\">\n",
       "      <th></th>\n",
       "      <th>LeadType</th>\n",
       "      <th>NoofLeadIDs</th>\n",
       "      <th>Avg No of Calls</th>\n",
       "      <th>#Leads Without Order</th>\n",
       "      <th>Conversion%</th>\n",
       "    </tr>\n",
       "  </thead>\n",
       "  <tbody>\n",
       "    <tr>\n",
       "      <th>0</th>\n",
       "      <td>Customer- 2nd Home</td>\n",
       "      <td>1833</td>\n",
       "      <td>2.26132</td>\n",
       "      <td>804.00000</td>\n",
       "      <td>56.13748</td>\n",
       "    </tr>\n",
       "    <tr>\n",
       "      <th>1</th>\n",
       "      <td>Customer- New Home</td>\n",
       "      <td>1831</td>\n",
       "      <td>2.23484</td>\n",
       "      <td>847.00000</td>\n",
       "      <td>53.74113</td>\n",
       "    </tr>\n",
       "    <tr>\n",
       "      <th>2</th>\n",
       "      <td>Out of Stock</td>\n",
       "      <td>1905</td>\n",
       "      <td>2.25039</td>\n",
       "      <td>829.00000</td>\n",
       "      <td>56.48294</td>\n",
       "    </tr>\n",
       "  </tbody>\n",
       "</table>\n",
       "</div>"
      ],
      "text/plain": [
       "             LeadType  NoofLeadIDs  Avg No of Calls  #Leads Without Order  \\\n",
       "0  Customer- 2nd Home         1833          2.26132             804.00000   \n",
       "1  Customer- New Home         1831          2.23484             847.00000   \n",
       "2        Out of Stock         1905          2.25039             829.00000   \n",
       "\n",
       "   Conversion%  \n",
       "0     56.13748  \n",
       "1     53.74113  \n",
       "2     56.48294  "
      ]
     },
     "execution_count": 47,
     "metadata": {},
     "output_type": "execute_result"
    }
   ],
   "source": [
    "lead_conv_df = leads_merged_df[(leads_merged_df['Lead Slice']==0)].groupby(['LeadType','LeadID'],as_index=False).agg({'OrderID':lambda x: x[x != 0.00000].count(),'Revenue':'sum','CallStartTime':'count'})\n",
    "conversion_summary_df = lead_conv_df.groupby(['LeadType'],as_index=False).agg({'LeadID':'count','CallStartTime':'mean','OrderID':lambda x: x[x == 0.00000].count()})\n",
    "conversion_summary_df.rename(columns={'LeadID': 'NoofLeadIDs', 'CallStartTime': 'Avg No of Calls','OrderID':'#Leads Without Order'}, inplace=True)\n",
    "conversion_summary_df['Conversion%'] = (conversion_summary_df['NoofLeadIDs']-conversion_summary_df['#Leads Without Order'])*100/conversion_summary_df['NoofLeadIDs']\n",
    "conversion_summary_df"
   ]
  },
  {
   "cell_type": "markdown",
   "metadata": {},
   "source": [
    "So we are seeing <b>56%</b> Conversion ratio for the Customer- 2nd Home Lead Type which is as well closely similar with the other lead types"
   ]
  },
  {
   "cell_type": "markdown",
   "metadata": {},
   "source": [
    "Here, we see that for Lead Type \"Customer- 2nd Home\", Agents were able to generate maximum revenue on <b>Saturday, Sunday and Wednesday </b>of the week. And the best time to approach the customers is at <b>5 AM and 14 PM</b> respectively. "
   ]
  },
  {
   "cell_type": "code",
   "execution_count": 30,
   "metadata": {},
   "outputs": [
    {
     "data": {
      "text/html": [
       "<div>\n",
       "<style scoped>\n",
       "    .dataframe tbody tr th:only-of-type {\n",
       "        vertical-align: middle;\n",
       "    }\n",
       "\n",
       "    .dataframe tbody tr th {\n",
       "        vertical-align: top;\n",
       "    }\n",
       "\n",
       "    .dataframe thead th {\n",
       "        text-align: right;\n",
       "    }\n",
       "</style>\n",
       "<table border=\"1\" class=\"dataframe\">\n",
       "  <thead>\n",
       "    <tr style=\"text-align: right;\">\n",
       "      <th></th>\n",
       "      <th>LeadOwnerEmpId</th>\n",
       "      <th>NoofLeadIDs</th>\n",
       "      <th>Total_Revenue</th>\n",
       "      <th>NoofCalls</th>\n",
       "      <th>Avg_Revenue_per_Lead</th>\n",
       "    </tr>\n",
       "  </thead>\n",
       "  <tbody>\n",
       "    <tr>\n",
       "      <th>10</th>\n",
       "      <td>976</td>\n",
       "      <td>32</td>\n",
       "      <td>151677.01000</td>\n",
       "      <td>45</td>\n",
       "      <td>4739.90656</td>\n",
       "    </tr>\n",
       "    <tr>\n",
       "      <th>0</th>\n",
       "      <td>81</td>\n",
       "      <td>43</td>\n",
       "      <td>195852.59000</td>\n",
       "      <td>57</td>\n",
       "      <td>4554.71140</td>\n",
       "    </tr>\n",
       "    <tr>\n",
       "      <th>23</th>\n",
       "      <td>1465</td>\n",
       "      <td>41</td>\n",
       "      <td>181717.95000</td>\n",
       "      <td>60</td>\n",
       "      <td>4432.14512</td>\n",
       "    </tr>\n",
       "    <tr>\n",
       "      <th>9</th>\n",
       "      <td>951</td>\n",
       "      <td>54</td>\n",
       "      <td>237903.18000</td>\n",
       "      <td>75</td>\n",
       "      <td>4405.61444</td>\n",
       "    </tr>\n",
       "    <tr>\n",
       "      <th>2</th>\n",
       "      <td>301</td>\n",
       "      <td>36</td>\n",
       "      <td>158575.33000</td>\n",
       "      <td>48</td>\n",
       "      <td>4404.87028</td>\n",
       "    </tr>\n",
       "  </tbody>\n",
       "</table>\n",
       "</div>"
      ],
      "text/plain": [
       "    LeadOwnerEmpId  NoofLeadIDs  Total_Revenue  NoofCalls  \\\n",
       "10             976           32   151677.01000         45   \n",
       "0               81           43   195852.59000         57   \n",
       "23            1465           41   181717.95000         60   \n",
       "9              951           54   237903.18000         75   \n",
       "2              301           36   158575.33000         48   \n",
       "\n",
       "    Avg_Revenue_per_Lead  \n",
       "10            4739.90656  \n",
       "0             4554.71140  \n",
       "23            4432.14512  \n",
       "9             4405.61444  \n",
       "2             4404.87028  "
      ]
     },
     "execution_count": 30,
     "metadata": {},
     "output_type": "execute_result"
    }
   ],
   "source": [
    "agent_performance_df = success_df.groupby(['LeadOwnerEmpId'],as_index=False).agg({'LeadID':lambda x: x.nunique(),'Revenue':'sum','CallStartTime':'count'})\n",
    "agent_performance_df.rename(columns={'LeadID': 'NoofLeadIDs', 'Revenue': 'Total_Revenue','CallStartTime':'NoofCalls'}, inplace=True)\n",
    "agent_performance_df['Avg_Revenue_per_Lead'] = agent_performance_df['Total_Revenue']/agent_performance_df['NoofLeadIDs']\n",
    "agent_performance_df.sort_values(by='Avg_Revenue_per_Lead',ascending=False).head(5)"
   ]
  },
  {
   "cell_type": "markdown",
   "metadata": {},
   "source": [
    "We see the average revenue generated for the top 5 Agents are above $4404 per Lead."
   ]
  },
  {
   "cell_type": "markdown",
   "metadata": {},
   "source": [
    "# Recommendations"
   ]
  },
  {
   "cell_type": "markdown",
   "metadata": {},
   "source": [
    "- Concerning our business case, we analyzed the testing revenue against the controlled revenue for the 3 Lead Types. Under the assumption \"Only Activity greater than or equal to the lead generation date should be considered to understand the impact of calling leads\", we found it keeping the customer engaging for <b>Customer - 2nd Home</b> can be profitable as compared to New Home and Out of Stock. Using Hypothesis testing we proved that the difference isn't significant between the control and called group. Although the incrementality is -7.3%, we can conclude that the expected revenue of the control group was close to the called revenue generated. The VCD was positive for the lead type as well.\n",
    "\n",
    "\n",
    "- We tried ignoring the assumptions and aggregated the revenue generated through the leads and on comparing the average called revenue with 45 Day Expected Revenue of the Control group, and found that the Lead Type - <b>Customer - 2nd Home</b> is profitable. This is in line with our results under the said assumption.\n",
    "\n",
    "\n",
    "\n",
    "- We also found the below key insghts for leads of the Type - \"Customer - 2nd Home\": \n",
    "\n",
    "        - Reaching out on Saturday, Sunday and Wednesday has higher chance of a conversion\n",
    "        - 5 AM and 2 PM are the ideal times to reach out\n",
    "        - Leads with Score (20-30) can be given higher preference followed by 40-50,50-60 and 70-80. \n",
    "        - The \"Average Revenue per Lead\" isnt varying much across the Agents. \n",
    "        - We can expect conversion rate of ~56% if we are reaching twice to leads on average"
   ]
  }
 ],
 "metadata": {
  "kernelspec": {
   "display_name": "Python 3",
   "language": "python",
   "name": "python3"
  },
  "language_info": {
   "codemirror_mode": {
    "name": "ipython",
    "version": 3
   },
   "file_extension": ".py",
   "mimetype": "text/x-python",
   "name": "python",
   "nbconvert_exporter": "python",
   "pygments_lexer": "ipython3",
   "version": "3.7.7"
  }
 },
 "nbformat": 4,
 "nbformat_minor": 4
}
